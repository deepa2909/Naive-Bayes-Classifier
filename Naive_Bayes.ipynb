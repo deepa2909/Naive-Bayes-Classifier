{
  "nbformat": 4,
  "nbformat_minor": 0,
  "metadata": {
    "kernelspec": {
      "display_name": "Python 3",
      "language": "python",
      "name": "python3"
    },
    "language_info": {
      "codemirror_mode": {
        "name": "ipython",
        "version": 3
      },
      "file_extension": ".py",
      "mimetype": "text/x-python",
      "name": "python",
      "nbconvert_exporter": "python",
      "pygments_lexer": "ipython3",
      "version": "3.8.3"
    },
    "colab": {
      "name": "Naive_Bayes.ipynb",
      "provenance": [],
      "include_colab_link": true
    }
  },
  "cells": [
    {
      "cell_type": "markdown",
      "metadata": {
        "id": "view-in-github",
        "colab_type": "text"
      },
      "source": [
        "<a href=\"https://colab.research.google.com/github/deepa2909/Naive-Bayes-Classifier/blob/main/Naive_Bayes.ipynb\" target=\"_parent\"><img src=\"https://colab.research.google.com/assets/colab-badge.svg\" alt=\"Open In Colab\"/></a>"
      ]
    },
    {
      "cell_type": "markdown",
      "metadata": {
        "id": "LNiBvuxRO-vs"
      },
      "source": [
        "\n",
        "\n",
        "```\n",
        "# This is formatted as code\n",
        "```\n",
        "The Naive Bayes Classifier (NB)"
      ]
    },
    {
      "cell_type": "markdown",
      "metadata": {
        "id": "SukqQgblq89P"
      },
      "source": [
        "The data universalbank.csv contains data on 5000 customers of Universal Bank. The data include customer demographic information (age, income, etc.), the customer’s relationship with the bank (mortgage, securities account, etc.), and the customer response to the last personal loan campaign (Personal Loan). Among these 5000 customers, only 480 (= 9.6%) accepted the personal loan that was offered to them in the earlier campaign. In this exercise, I focused on two predictors: age, income, experience, and the outcome Personal Loan.\n",
        "\n"
      ]
    },
    {
      "cell_type": "code",
      "metadata": {
        "id": "Zy1MBStjO-vt"
      },
      "source": [
        "# Import required packages for this chapter\n",
        "import pandas as pd\n",
        "from sklearn import preprocessing \n",
        "from sklearn.model_selection import train_test_split\n",
        "from sklearn.naive_bayes import GaussianNB\n",
        "from sklearn.naive_bayes import MultinomialNB\n",
        "from sklearn import metrics\n",
        "from sklearn.metrics import confusion_matrix\n"
      ],
      "execution_count": null,
      "outputs": []
    },
    {
      "cell_type": "markdown",
      "metadata": {
        "id": "noGD-6RqO-vw"
      },
      "source": [
        "# Personal Loan Acceptance."
      ]
    },
    {
      "cell_type": "code",
      "metadata": {
        "id": "9RBN1EZ0O-vw",
        "colab": {
          "base_uri": "https://localhost:8080/",
          "height": 260
        },
        "outputId": "b99540d5-e530-4de7-ed35-c5937821a0e4"
      },
      "source": [
        "# Load the data into band_df dataframe bank_df\n",
        "bank_df = pd.read_csv(\"https://raw.githubusercontent.com/timcsmith/MIS536-Public/master/Data/UniversalBank.csv\")\n",
        "print(bank_df)\n",
        "\n",
        "# Use critical functions to explore the dataframe using print() to show results\n"
      ],
      "execution_count": null,
      "outputs": [
        {
          "output_type": "stream",
          "text": [
            "        ID  Age  Experience  ...  CD Account  Online  CreditCard\n",
            "0        1   25           1  ...           0       0           0\n",
            "1        2   45          19  ...           0       0           0\n",
            "2        3   39          15  ...           0       0           0\n",
            "3        4   35           9  ...           0       0           0\n",
            "4        5   35           8  ...           0       0           1\n",
            "...    ...  ...         ...  ...         ...     ...         ...\n",
            "4995  4996   29           3  ...           0       1           0\n",
            "4996  4997   30           4  ...           0       1           0\n",
            "4997  4998   63          39  ...           0       0           0\n",
            "4998  4999   65          40  ...           0       1           0\n",
            "4999  5000   28           4  ...           0       1           1\n",
            "\n",
            "[5000 rows x 14 columns]\n"
          ],
          "name": "stdout"
        }
      ]
    },
    {
      "cell_type": "code",
      "metadata": {
        "id": "DyGf-ehg16Ni"
      },
      "source": [
        "\n",
        "# let's replace any spaces in the column names with underscore\n",
        "bank_df.columns = [s.strip().replace(' ','_') for s in bank_df.columns] # list comprehension, all columns\n"
      ],
      "execution_count": null,
      "outputs": []
    },
    {
      "cell_type": "code",
      "metadata": {
        "id": "alAhiTACICvl",
        "colab": {
          "base_uri": "https://localhost:8080/",
          "height": 277
        },
        "outputId": "ba230c67-07c3-4b67-a251-cc43ddc5aead"
      },
      "source": [
        "# Does the data needs further cleaning?\n",
        "bank_df.describe()\n",
        "bank_df.isna().sum()\n",
        "bank_df.count()\n",
        "\n",
        "# If you think so, write your clearning process here."
      ],
      "execution_count": null,
      "outputs": [
        {
          "output_type": "execute_result",
          "data": {
            "text/plain": [
              "ID                    5000\n",
              "Age                   5000\n",
              "Experience            5000\n",
              "Income                5000\n",
              "ZIP_Code              5000\n",
              "Family                5000\n",
              "CCAvg                 5000\n",
              "Education             5000\n",
              "Mortgage              5000\n",
              "Personal_Loan         5000\n",
              "Securities_Account    5000\n",
              "CD_Account            5000\n",
              "Online                5000\n",
              "CreditCard            5000\n",
              "dtype: int64"
            ]
          },
          "metadata": {
            "tags": []
          },
          "execution_count": 90
        }
      ]
    },
    {
      "cell_type": "code",
      "metadata": {
        "id": "ASw4Bari1EQ5",
        "colab": {
          "base_uri": "https://localhost:8080/",
          "height": 470
        },
        "outputId": "4f0f6c1b-bfe9-4e0e-8837-9aeafbc3c81a"
      },
      "source": [
        "# Only keep the columns we need: Creditcard and Online .Drop the rest.\n",
        "bank_df.cols = bank_df.drop(columns=['ID','Age', 'Experience', 'Income', 'ZIP_Code','Family', 'CCAvg', 'Education', 'Mortgage', 'Securities_Account', 'CD_Account' ])\n",
        "bank_df.cols"
      ],
      "execution_count": null,
      "outputs": [
        {
          "output_type": "stream",
          "text": [
            "/usr/local/lib/python3.6/dist-packages/ipykernel_launcher.py:2: UserWarning: Pandas doesn't allow columns to be created via a new attribute name - see https://pandas.pydata.org/pandas-docs/stable/indexing.html#attribute-access\n",
            "  \n"
          ],
          "name": "stderr"
        },
        {
          "output_type": "execute_result",
          "data": {
            "text/html": [
              "<div>\n",
              "<style scoped>\n",
              "    .dataframe tbody tr th:only-of-type {\n",
              "        vertical-align: middle;\n",
              "    }\n",
              "\n",
              "    .dataframe tbody tr th {\n",
              "        vertical-align: top;\n",
              "    }\n",
              "\n",
              "    .dataframe thead th {\n",
              "        text-align: right;\n",
              "    }\n",
              "</style>\n",
              "<table border=\"1\" class=\"dataframe\">\n",
              "  <thead>\n",
              "    <tr style=\"text-align: right;\">\n",
              "      <th></th>\n",
              "      <th>Personal_Loan</th>\n",
              "      <th>Online</th>\n",
              "      <th>CreditCard</th>\n",
              "    </tr>\n",
              "  </thead>\n",
              "  <tbody>\n",
              "    <tr>\n",
              "      <th>0</th>\n",
              "      <td>0</td>\n",
              "      <td>0</td>\n",
              "      <td>0</td>\n",
              "    </tr>\n",
              "    <tr>\n",
              "      <th>1</th>\n",
              "      <td>0</td>\n",
              "      <td>0</td>\n",
              "      <td>0</td>\n",
              "    </tr>\n",
              "    <tr>\n",
              "      <th>2</th>\n",
              "      <td>0</td>\n",
              "      <td>0</td>\n",
              "      <td>0</td>\n",
              "    </tr>\n",
              "    <tr>\n",
              "      <th>3</th>\n",
              "      <td>0</td>\n",
              "      <td>0</td>\n",
              "      <td>0</td>\n",
              "    </tr>\n",
              "    <tr>\n",
              "      <th>4</th>\n",
              "      <td>0</td>\n",
              "      <td>0</td>\n",
              "      <td>1</td>\n",
              "    </tr>\n",
              "    <tr>\n",
              "      <th>...</th>\n",
              "      <td>...</td>\n",
              "      <td>...</td>\n",
              "      <td>...</td>\n",
              "    </tr>\n",
              "    <tr>\n",
              "      <th>4995</th>\n",
              "      <td>0</td>\n",
              "      <td>1</td>\n",
              "      <td>0</td>\n",
              "    </tr>\n",
              "    <tr>\n",
              "      <th>4996</th>\n",
              "      <td>0</td>\n",
              "      <td>1</td>\n",
              "      <td>0</td>\n",
              "    </tr>\n",
              "    <tr>\n",
              "      <th>4997</th>\n",
              "      <td>0</td>\n",
              "      <td>0</td>\n",
              "      <td>0</td>\n",
              "    </tr>\n",
              "    <tr>\n",
              "      <th>4998</th>\n",
              "      <td>0</td>\n",
              "      <td>1</td>\n",
              "      <td>0</td>\n",
              "    </tr>\n",
              "    <tr>\n",
              "      <th>4999</th>\n",
              "      <td>0</td>\n",
              "      <td>1</td>\n",
              "      <td>1</td>\n",
              "    </tr>\n",
              "  </tbody>\n",
              "</table>\n",
              "<p>5000 rows × 3 columns</p>\n",
              "</div>"
            ],
            "text/plain": [
              "      Personal_Loan  Online  CreditCard\n",
              "0                 0       0           0\n",
              "1                 0       0           0\n",
              "2                 0       0           0\n",
              "3                 0       0           0\n",
              "4                 0       0           1\n",
              "...             ...     ...         ...\n",
              "4995              0       1           0\n",
              "4996              0       1           0\n",
              "4997              0       0           0\n",
              "4998              0       1           0\n",
              "4999              0       1           1\n",
              "\n",
              "[5000 rows x 3 columns]"
            ]
          },
          "metadata": {
            "tags": []
          },
          "execution_count": 91
        }
      ]
    },
    {
      "cell_type": "markdown",
      "metadata": {
        "id": "nNWl_s7nrp7W"
      },
      "source": [
        "# The data split into training (60%) and validation (40%) sets."
      ]
    },
    {
      "cell_type": "code",
      "metadata": {
        "id": "98tA81JaO-v0",
        "colab": {
          "base_uri": "https://localhost:8080/",
          "height": 35
        },
        "outputId": "9ee89ebb-efc6-4e2d-e9f7-7afa3cd187e3"
      },
      "source": [
        "# Split the data into training and validation sets\n",
        "train_df, validation_df = train_test_split(bank_df.cols, test_size=0.4, random_state=123)\n",
        "print('Training set:', train_df.shape, 'Validation set:', validation_df.shape)"
      ],
      "execution_count": null,
      "outputs": [
        {
          "output_type": "stream",
          "text": [
            "Training set: (3000, 3) Validation set: (2000, 3)\n"
          ],
          "name": "stdout"
        }
      ]
    },
    {
      "cell_type": "code",
      "metadata": {
        "id": "7A4rBGB3O-v2"
      },
      "source": [
        "# Construct the model the perform analysis\n",
        "outcome = 'Personal_Loan'\n",
        "X = list(bank_df.cols)\n",
        "X.remove(outcome)\n",
        "train_X_nb = train_df[X]\n",
        "valid_X_nb = validation_df[X]\n",
        "train_y_nb = train_df[outcome]\n",
        "valid_y_nb = validation_df[outcome]\n",
        "#print(train_X_nb.head())\n",
        "#print(valid_X_nb.head())\n",
        "\n",
        "\n"
      ],
      "execution_count": null,
      "outputs": []
    },
    {
      "cell_type": "code",
      "metadata": {
        "id": "NjNaAqKyO-v4",
        "colab": {
          "base_uri": "https://localhost:8080/",
          "height": 35
        },
        "outputId": "c8d449ef-2c9a-4e2a-f1f9-39a71fd6d523"
      },
      "source": [
        "# Predict the classification for test dataset\n",
        "classifier = GaussianNB()\n",
        "classifier.fit(train_X_nb, train_y_nb)\n",
        "# Append your prediction, predicted probability to the testing dataset and print the new dataset out using print()\n",
        "# You should be able to view your prediction, observed outcome, and predictors for each data point side by side."
      ],
      "execution_count": null,
      "outputs": [
        {
          "output_type": "execute_result",
          "data": {
            "text/plain": [
              "GaussianNB(priors=None, var_smoothing=1e-09)"
            ]
          },
          "metadata": {
            "tags": []
          },
          "execution_count": 94
        }
      ]
    },
    {
      "cell_type": "code",
      "metadata": {
        "id": "L8niCTSuO-v5",
        "colab": {
          "base_uri": "https://localhost:8080/",
          "height": 139
        },
        "outputId": "8a9a721e-456d-47ec-a7fb-e2f7d79e2e59"
      },
      "source": [
        "# calculate the accuracy of your prediction against the observed outcome.\n",
        "y_predict_nb =classifier.predict(valid_X_nb)\n",
        "y_probpred_nb = classifier.predict_proba(valid_X_nb)\n",
        "print(\"prediction: \", y_predict_nb, \"Probability: \", y_probpred_nb)\n",
        "\n",
        "\n",
        "# How well do you think the model does?"
      ],
      "execution_count": null,
      "outputs": [
        {
          "output_type": "stream",
          "text": [
            "prediction:  [0 0 0 ... 0 0 0] Probability:  [[0.91501308 0.08498692]\n",
            " [0.88728471 0.11271529]\n",
            " [0.91229342 0.08770658]\n",
            " ...\n",
            " [0.91501308 0.08498692]\n",
            " [0.91501308 0.08498692]\n",
            " [0.88379042 0.11620958]]\n"
          ],
          "name": "stdout"
        }
      ]
    },
    {
      "cell_type": "code",
      "metadata": {
        "id": "UsEoQstxD8v4",
        "colab": {
          "base_uri": "https://localhost:8080/",
          "height": 124
        },
        "outputId": "de825cae-ac75-4202-ae2b-22f534e7a34a"
      },
      "source": [
        "print(\"Accuracy\", metrics.accuracy_score(valid_y_nb, y_predict_nb))\n",
        "print(\"Recall\", metrics.recall_score(valid_y_nb, y_predict_nb, average ='weighted'))\n",
        "print(\"Precision\", metrics.precision_score(valid_y_nb, y_predict_nb, average ='weighted'))"
      ],
      "execution_count": null,
      "outputs": [
        {
          "output_type": "stream",
          "text": [
            "Accuracy 0.902\n",
            "Recall 0.902\n",
            "Precision 0.813604\n"
          ],
          "name": "stdout"
        },
        {
          "output_type": "stream",
          "text": [
            "/usr/local/lib/python3.6/dist-packages/sklearn/metrics/_classification.py:1272: UndefinedMetricWarning: Precision is ill-defined and being set to 0.0 in labels with no predicted samples. Use `zero_division` parameter to control this behavior.\n",
            "  _warn_prf(average, modifier, msg_start, len(result))\n"
          ],
          "name": "stderr"
        }
      ]
    },
    {
      "cell_type": "code",
      "metadata": {
        "id": "Y9tEcjJXO-v8",
        "colab": {
          "base_uri": "https://localhost:8080/",
          "height": 52
        },
        "outputId": "f2ef8863-c43f-4532-fddf-344f9600e218"
      },
      "source": [
        "# Interpret your results:\n",
        "confusion_nb = confusion_matrix(valid_y_nb, y_predict_nb)\n",
        "confusion_nb\n"
      ],
      "execution_count": null,
      "outputs": [
        {
          "output_type": "execute_result",
          "data": {
            "text/plain": [
              "array([[1804,    0],\n",
              "       [ 196,    0]])"
            ]
          },
          "metadata": {
            "tags": []
          },
          "execution_count": 97
        }
      ]
    },
    {
      "cell_type": "markdown",
      "metadata": {
        "id": "hGtTXkB3Vv51"
      },
      "source": [
        "The model is doing good at predicticting FP =0 but is doing really bad at predicting TN = 0, this value doesn't hurt the business but because other ways to find customer not interested in personal loan can be found out. With huge no of FN = 196, business can call customers in the FN and confirm about the choices they want to make. The model is going a good job at predicting TP = 1804 and it is predicting FP =0. Very well done, thats what the model should do\n",
        "\n",
        "\n",
        "\n",
        "\n"
      ]
    },
    {
      "cell_type": "markdown",
      "metadata": {
        "id": "HMp1Sfp1VMH_"
      },
      "source": [
        "# Lesson learned from this lab:\n",
        "Naive bayes, although a simple model, based on the assumption that\n",
        "features are independent of each other, the model actually performs well with a reasonalble accuracy of the model.\n"
      ]
    },
    {
      "cell_type": "markdown",
      "metadata": {
        "id": "bffmvJYXO-v9"
      },
      "source": [
        "# Automobile Accidents"
      ]
    },
    {
      "cell_type": "markdown",
      "metadata": {
        "id": "AbPCdEb-O-v-"
      },
      "source": [
        "The file accidents.csv contains information on 42,183 actual automobile accidents in 2001 in the United States that involved one of three levels of injury: NO INJURY, INJURY, or FATALITY. For each accident, additional information is recorded, such as day of week, weather conditions, and road type. A firm might be interested in developing a system for quickly classifying the severity of an accident based on three predictors: weather conditions (WEATHER_R), traffic conditions (TRAF_CON_R), and road type (INT_HWY).\n",
        "\n",
        "Our goal here is to predict whether an accident just reported will involve fatality (MAX_SEV_IR = 2), a non fetal injury (MAX_SEV_IR = 1) or not injury (MAX_SEV_IR = 0).\n",
        "\n",
        "Partition the data into training (80%) and validation (20%) sets."
      ]
    },
    {
      "cell_type": "code",
      "metadata": {
        "id": "joTLVqM7O-v-",
        "colab": {
          "base_uri": "https://localhost:8080/",
          "height": 468
        },
        "outputId": "e6804e85-8994-43f8-a1c0-cb44e0572cf6"
      },
      "source": [
        "# Load the data into band_df dataframe accidents_df\n",
        "accidents_df = pd.read_csv('https://raw.githubusercontent.com/timcsmith/MIS536-Public/master/Data/accidents.csv')\n",
        "\n",
        "print(accidents_df)\n",
        "# Use critical functions to explore the dataframe using print() to show results\n",
        "accidents_df['MAX_SEV_IR']"
      ],
      "execution_count": null,
      "outputs": [
        {
          "output_type": "stream",
          "text": [
            "       HOUR_I_R  ALCHL_I  ALIGN_I  ...  PRPTYDMG_CRASH  FATALITIES  MAX_SEV_IR\n",
            "0             0        2        2  ...               0           0           1\n",
            "1             1        2        1  ...               1           0           0\n",
            "2             1        2        1  ...               1           0           0\n",
            "3             1        2        1  ...               1           0           0\n",
            "4             1        1        1  ...               1           0           0\n",
            "...         ...      ...      ...  ...             ...         ...         ...\n",
            "42178         0        2        1  ...               1           0           0\n",
            "42179         1        2        1  ...               0           0           1\n",
            "42180         0        2        2  ...               1           0           0\n",
            "42181         1        2        1  ...               1           0           0\n",
            "42182         1        2        1  ...               1           0           0\n",
            "\n",
            "[42183 rows x 24 columns]\n"
          ],
          "name": "stdout"
        },
        {
          "output_type": "execute_result",
          "data": {
            "text/plain": [
              "0        1\n",
              "1        0\n",
              "2        0\n",
              "3        0\n",
              "4        0\n",
              "        ..\n",
              "42178    0\n",
              "42179    1\n",
              "42180    0\n",
              "42181    0\n",
              "42182    0\n",
              "Name: MAX_SEV_IR, Length: 42183, dtype: int64"
            ]
          },
          "metadata": {
            "tags": []
          },
          "execution_count": 98
        }
      ]
    },
    {
      "cell_type": "code",
      "metadata": {
        "id": "mmLa_pKrCQvn",
        "colab": {
          "base_uri": "https://localhost:8080/",
          "height": 121
        },
        "outputId": "cd9b7345-fda4-43e9-fa4d-a7b75284cfce"
      },
      "source": [
        "accidents_df.columns"
      ],
      "execution_count": null,
      "outputs": [
        {
          "output_type": "execute_result",
          "data": {
            "text/plain": [
              "Index(['HOUR_I_R', 'ALCHL_I', 'ALIGN_I', 'STRATUM_R', 'WRK_ZONE', 'WKDY_I_R',\n",
              "       'INT_HWY', 'LGTCON_I_R', 'MANCOL_I_R', 'PED_ACC_R', 'RELJCT_I_R',\n",
              "       'REL_RWY_R', 'PROFIL_I_R', 'SPD_LIM', 'SUR_COND', 'TRAF_CON_R',\n",
              "       'TRAF_WAY', 'VEH_INVL', 'WEATHER_R', 'INJURY_CRASH', 'NO_INJ_I',\n",
              "       'PRPTYDMG_CRASH', 'FATALITIES', 'MAX_SEV_IR'],\n",
              "      dtype='object')"
            ]
          },
          "metadata": {
            "tags": []
          },
          "execution_count": 99
        }
      ]
    },
    {
      "cell_type": "code",
      "metadata": {
        "id": "F5Yw61wmA3-y",
        "colab": {
          "base_uri": "https://localhost:8080/",
          "height": 470
        },
        "outputId": "f06320e2-8587-4472-8d9a-5275b0d608ea"
      },
      "source": [
        "# Only keep the columns we need.Drop the rest.\n",
        "accidents_df.cols = accidents_df.drop(columns=['HOUR_I_R', 'ALCHL_I', 'ALIGN_I', 'STRATUM_R', 'WRK_ZONE', 'WKDY_I_R', 'LGTCON_I_R', 'MANCOL_I_R', 'PED_ACC_R', 'RELJCT_I_R', 'REL_RWY_R', 'PROFIL_I_R', 'SPD_LIM', 'SUR_COND', 'TRAF_WAY', 'VEH_INVL', 'INJURY_CRASH', 'NO_INJ_I', 'PRPTYDMG_CRASH', 'FATALITIES'])\n",
        "accidents_df.cols"
      ],
      "execution_count": null,
      "outputs": [
        {
          "output_type": "stream",
          "text": [
            "/usr/local/lib/python3.6/dist-packages/ipykernel_launcher.py:2: UserWarning: Pandas doesn't allow columns to be created via a new attribute name - see https://pandas.pydata.org/pandas-docs/stable/indexing.html#attribute-access\n",
            "  \n"
          ],
          "name": "stderr"
        },
        {
          "output_type": "execute_result",
          "data": {
            "text/html": [
              "<div>\n",
              "<style scoped>\n",
              "    .dataframe tbody tr th:only-of-type {\n",
              "        vertical-align: middle;\n",
              "    }\n",
              "\n",
              "    .dataframe tbody tr th {\n",
              "        vertical-align: top;\n",
              "    }\n",
              "\n",
              "    .dataframe thead th {\n",
              "        text-align: right;\n",
              "    }\n",
              "</style>\n",
              "<table border=\"1\" class=\"dataframe\">\n",
              "  <thead>\n",
              "    <tr style=\"text-align: right;\">\n",
              "      <th></th>\n",
              "      <th>INT_HWY</th>\n",
              "      <th>TRAF_CON_R</th>\n",
              "      <th>WEATHER_R</th>\n",
              "      <th>MAX_SEV_IR</th>\n",
              "    </tr>\n",
              "  </thead>\n",
              "  <tbody>\n",
              "    <tr>\n",
              "      <th>0</th>\n",
              "      <td>0</td>\n",
              "      <td>0</td>\n",
              "      <td>1</td>\n",
              "      <td>1</td>\n",
              "    </tr>\n",
              "    <tr>\n",
              "      <th>1</th>\n",
              "      <td>1</td>\n",
              "      <td>0</td>\n",
              "      <td>2</td>\n",
              "      <td>0</td>\n",
              "    </tr>\n",
              "    <tr>\n",
              "      <th>2</th>\n",
              "      <td>0</td>\n",
              "      <td>1</td>\n",
              "      <td>2</td>\n",
              "      <td>0</td>\n",
              "    </tr>\n",
              "    <tr>\n",
              "      <th>3</th>\n",
              "      <td>0</td>\n",
              "      <td>1</td>\n",
              "      <td>1</td>\n",
              "      <td>0</td>\n",
              "    </tr>\n",
              "    <tr>\n",
              "      <th>4</th>\n",
              "      <td>0</td>\n",
              "      <td>0</td>\n",
              "      <td>1</td>\n",
              "      <td>0</td>\n",
              "    </tr>\n",
              "    <tr>\n",
              "      <th>...</th>\n",
              "      <td>...</td>\n",
              "      <td>...</td>\n",
              "      <td>...</td>\n",
              "      <td>...</td>\n",
              "    </tr>\n",
              "    <tr>\n",
              "      <th>42178</th>\n",
              "      <td>0</td>\n",
              "      <td>2</td>\n",
              "      <td>1</td>\n",
              "      <td>0</td>\n",
              "    </tr>\n",
              "    <tr>\n",
              "      <th>42179</th>\n",
              "      <td>0</td>\n",
              "      <td>0</td>\n",
              "      <td>1</td>\n",
              "      <td>1</td>\n",
              "    </tr>\n",
              "    <tr>\n",
              "      <th>42180</th>\n",
              "      <td>0</td>\n",
              "      <td>0</td>\n",
              "      <td>1</td>\n",
              "      <td>0</td>\n",
              "    </tr>\n",
              "    <tr>\n",
              "      <th>42181</th>\n",
              "      <td>0</td>\n",
              "      <td>0</td>\n",
              "      <td>1</td>\n",
              "      <td>0</td>\n",
              "    </tr>\n",
              "    <tr>\n",
              "      <th>42182</th>\n",
              "      <td>0</td>\n",
              "      <td>2</td>\n",
              "      <td>1</td>\n",
              "      <td>0</td>\n",
              "    </tr>\n",
              "  </tbody>\n",
              "</table>\n",
              "<p>42183 rows × 4 columns</p>\n",
              "</div>"
            ],
            "text/plain": [
              "       INT_HWY  TRAF_CON_R  WEATHER_R  MAX_SEV_IR\n",
              "0            0           0          1           1\n",
              "1            1           0          2           0\n",
              "2            0           1          2           0\n",
              "3            0           1          1           0\n",
              "4            0           0          1           0\n",
              "...        ...         ...        ...         ...\n",
              "42178        0           2          1           0\n",
              "42179        0           0          1           1\n",
              "42180        0           0          1           0\n",
              "42181        0           0          1           0\n",
              "42182        0           2          1           0\n",
              "\n",
              "[42183 rows x 4 columns]"
            ]
          },
          "metadata": {
            "tags": []
          },
          "execution_count": 100
        }
      ]
    },
    {
      "cell_type": "code",
      "metadata": {
        "id": "mOXFw7RuBsux",
        "colab": {
          "base_uri": "https://localhost:8080/",
          "height": 35
        },
        "outputId": "82b7b38c-90a1-41ee-ea57-90d2fcdead5a"
      },
      "source": [
        "accidents_df.cols.columns"
      ],
      "execution_count": null,
      "outputs": [
        {
          "output_type": "execute_result",
          "data": {
            "text/plain": [
              "Index(['INT_HWY', 'TRAF_CON_R', 'WEATHER_R', 'MAX_SEV_IR'], dtype='object')"
            ]
          },
          "metadata": {
            "tags": []
          },
          "execution_count": 101
        }
      ]
    },
    {
      "cell_type": "code",
      "metadata": {
        "id": "VIaGjsPHO-wA",
        "colab": {
          "base_uri": "https://localhost:8080/",
          "height": 35
        },
        "outputId": "bf1a3754-af8b-4b75-c8d4-3af2481d4c24"
      },
      "source": [
        "# Split dataset into training set and test set: 80% training and 20% validation\n",
        "train_df, validation_df = train_test_split(accidents_df.cols, test_size=0.2, random_state=111)\n",
        "print('Training set:', train_df.shape, 'Validation set:', validation_df.shape)\n"
      ],
      "execution_count": null,
      "outputs": [
        {
          "output_type": "stream",
          "text": [
            "Training set: (33746, 4) Validation set: (8437, 4)\n"
          ],
          "name": "stdout"
        }
      ]
    },
    {
      "cell_type": "code",
      "metadata": {
        "id": "yDhIWOanO-wB",
        "colab": {
          "base_uri": "https://localhost:8080/",
          "height": 225
        },
        "outputId": "85c69860-e9dc-4643-f42a-c89d51e71ba4"
      },
      "source": [
        "# Construct the model the perform analysis\n",
        "result = 'MAX_SEV_IR'\n",
        "X = list(accidents_df.cols.columns)\n",
        "X.remove(result)\n",
        "train_X_mb = train_df[X]\n",
        "valid_X_mb = validation_df[X]\n",
        "train_y_mb = train_df[result]\n",
        "valid_y_mb = validation_df[result]\n",
        "print(train_X_mb.head())\n",
        "print(valid_X_mb.head())\n",
        "\n"
      ],
      "execution_count": null,
      "outputs": [
        {
          "output_type": "stream",
          "text": [
            "       INT_HWY  TRAF_CON_R  WEATHER_R\n",
            "19080        1           0          1\n",
            "33161        0           1          1\n",
            "34772        0           0          1\n",
            "26501        0           0          1\n",
            "37729        0           0          1\n",
            "       INT_HWY  TRAF_CON_R  WEATHER_R\n",
            "12812        0           0          1\n",
            "1871         0           0          2\n",
            "15702        0           1          2\n",
            "31085        0           0          1\n",
            "27525        0           0          1\n"
          ],
          "name": "stdout"
        }
      ]
    },
    {
      "cell_type": "code",
      "metadata": {
        "id": "oUuS--xNO-wD",
        "colab": {
          "base_uri": "https://localhost:8080/",
          "height": 35
        },
        "outputId": "0ff265d0-6a40-4f29-b6bd-cec9031c3bfe"
      },
      "source": [
        "# Predict the classification for test dataset\n",
        "mNB = MultinomialNB()\n",
        "mNB.fit(train_X_mb, train_y_mb)\n",
        "# Append your prediction, predicted probability to the testing dataset and print the new dataset out using print()\n",
        "# You should be able to view your prediction, observed outcome, and predictors for each data point side by side."
      ],
      "execution_count": null,
      "outputs": [
        {
          "output_type": "execute_result",
          "data": {
            "text/plain": [
              "MultinomialNB(alpha=1.0, class_prior=None, fit_prior=True)"
            ]
          },
          "metadata": {
            "tags": []
          },
          "execution_count": 116
        }
      ]
    },
    {
      "cell_type": "code",
      "metadata": {
        "id": "Z-dvCCSA6m1u",
        "colab": {
          "base_uri": "https://localhost:8080/",
          "height": 139
        },
        "outputId": "ee8adf49-6a64-4a6c-b9c0-44ad7fad2401"
      },
      "source": [
        "y_predict_mb =mNB.predict(valid_X_mb)\n",
        "y_probpred_mb = mNB.predict_proba(valid_X_mb)\n",
        "print(\"Prediction: \", y_predict_mb, \"Probability: \", y_probpred_mb)"
      ],
      "execution_count": null,
      "outputs": [
        {
          "output_type": "stream",
          "text": [
            "Prediction:  [0 0 1 ... 1 1 0] Probability:  [[0.49984105 0.48857579 0.01158316]\n",
            " [0.5080921  0.48015101 0.01175689]\n",
            " [0.48660508 0.50412855 0.00926637]\n",
            " ...\n",
            " [0.46480262 0.52791314 0.00728424]\n",
            " [0.47831723 0.51256069 0.00912209]\n",
            " [0.49984105 0.48857579 0.01158316]]\n"
          ],
          "name": "stdout"
        }
      ]
    },
    {
      "cell_type": "code",
      "metadata": {
        "id": "p0w-iVa_O-wF",
        "colab": {
          "base_uri": "https://localhost:8080/",
          "height": 121
        },
        "outputId": "448469ca-6316-4c64-e709-0187f8dd2fe1"
      },
      "source": [
        "# compute model accuracy of your prediction against observed outcomes.\n",
        "print(\"Accuracy\", metrics.accuracy_score(valid_y_mb, y_predict_mb))\n",
        "print(\"Recall\", metrics.recall_score(valid_y_mb, y_predict_mb, average ='weighted'))\n",
        "print(\"Precision\", metrics.precision_score(valid_y_mb, y_predict_mb, average ='weighted'))\n",
        "\n",
        "\n",
        "\n",
        "confusion = metrics.confusion_matrix(valid_y_mb, y_predict_mb)\n",
        "confusion\n"
      ],
      "execution_count": null,
      "outputs": [
        {
          "output_type": "stream",
          "text": [
            "Accuracy 0.5112006637430366\n",
            "Recall 0.5112006637430366\n",
            "Precision 0.5102798785844577\n"
          ],
          "name": "stdout"
        },
        {
          "output_type": "execute_result",
          "data": {
            "text/plain": [
              "array([[2736, 1394,    2],\n",
              "       [2644, 1577,    3],\n",
              "       [  62,   19,    0]])"
            ]
          },
          "metadata": {
            "tags": []
          },
          "execution_count": 118
        }
      ]
    },
    {
      "cell_type": "markdown",
      "metadata": {
        "id": "e1bTI7rTWPYW"
      },
      "source": [
        "# How well do you think the model does?\n",
        "By looking at the accuracy it is performing right only about 51% of the times. Shows quite low precision and recall value too. \n",
        "The confusion matrix shows the model not predicting for class 3 at all compared to the other classes. The prediction is skewed in this case. Actions should be made to incoporate class 3 so that model should be able to make predictions for it too. "
      ]
    },
    {
      "cell_type": "code",
      "metadata": {
        "id": "LZl93cqEO-wG",
        "colab": {
          "base_uri": "https://localhost:8080/",
          "height": 371
        },
        "outputId": "0901a29c-580c-4ad0-808f-2725eb6793f8"
      },
      "source": [
        "# Optional Challenge: Can you improve the accuracy of the model to above 0.08 by finding a different set of the predictors?\n",
        "import seaborn as sns\n",
        "corr = accidents_df.corr()\n",
        "sns.heatmap(corr, xticklabels=corr.columns, yticklabels=corr.columns)\n",
        "# Show you model below:\n",
        "\n",
        "\n"
      ],
      "execution_count": null,
      "outputs": [
        {
          "output_type": "execute_result",
          "data": {
            "text/plain": [
              "<matplotlib.axes._subplots.AxesSubplot at 0x7fa7d3d3c860>"
            ]
          },
          "metadata": {
            "tags": []
          },
          "execution_count": 107
        },
        {
          "output_type": "display_data",
          "data": {
            "image/png": "[encoded data removed]",
            "text/plain": [
              "<Figure size 432x288 with 2 Axes>"
            ]
          },
          "metadata": {
            "tags": [],
            "needs_background": "light"
          }
        }
      ]
    },
    {
      "cell_type": "markdown",
      "metadata": {
        "id": "MaH4uY1XYUJR"
      },
      "source": [
        "To find which other valiable/attribute/feature have close relationship with previously taken attributes, I drew a heatmap, which tell a direct - correlation between INJURY_CRASH\t and MAX_SEV_IR. Therefore, I incoporated that predictor in the model and model accuracy increased from .51 to .99.\n",
        "\n",
        "Other predictors could also be chosen from the heatmap."
      ]
    },
    {
      "cell_type": "code",
      "metadata": {
        "id": "OfM4RGGaF4AC",
        "colab": {
          "base_uri": "https://localhost:8080/",
          "height": 470
        },
        "outputId": "ee5dc40a-b5b1-45eb-b139-936f8b3d7b2d"
      },
      "source": [
        "accidents_df.cols2 = accidents_df.drop(columns=['HOUR_I_R', 'ALCHL_I', 'ALIGN_I', 'STRATUM_R', 'WRK_ZONE', 'WKDY_I_R', 'LGTCON_I_R', 'MANCOL_I_R', 'PED_ACC_R', 'RELJCT_I_R', 'REL_RWY_R', 'PROFIL_I_R', 'SPD_LIM', 'SUR_COND', 'TRAF_WAY', 'VEH_INVL', 'NO_INJ_I', 'PRPTYDMG_CRASH', 'FATALITIES'])\n",
        "accidents_df.cols2"
      ],
      "execution_count": null,
      "outputs": [
        {
          "output_type": "stream",
          "text": [
            "/usr/local/lib/python3.6/dist-packages/ipykernel_launcher.py:1: UserWarning: Pandas doesn't allow columns to be created via a new attribute name - see https://pandas.pydata.org/pandas-docs/stable/indexing.html#attribute-access\n",
            "  \"\"\"Entry point for launching an IPython kernel.\n"
          ],
          "name": "stderr"
        },
        {
          "output_type": "execute_result",
          "data": {
            "text/html": [
              "<div>\n",
              "<style scoped>\n",
              "    .dataframe tbody tr th:only-of-type {\n",
              "        vertical-align: middle;\n",
              "    }\n",
              "\n",
              "    .dataframe tbody tr th {\n",
              "        vertical-align: top;\n",
              "    }\n",
              "\n",
              "    .dataframe thead th {\n",
              "        text-align: right;\n",
              "    }\n",
              "</style>\n",
              "<table border=\"1\" class=\"dataframe\">\n",
              "  <thead>\n",
              "    <tr style=\"text-align: right;\">\n",
              "      <th></th>\n",
              "      <th>INT_HWY</th>\n",
              "      <th>TRAF_CON_R</th>\n",
              "      <th>WEATHER_R</th>\n",
              "      <th>INJURY_CRASH</th>\n",
              "      <th>MAX_SEV_IR</th>\n",
              "    </tr>\n",
              "  </thead>\n",
              "  <tbody>\n",
              "    <tr>\n",
              "      <th>0</th>\n",
              "      <td>0</td>\n",
              "      <td>0</td>\n",
              "      <td>1</td>\n",
              "      <td>1</td>\n",
              "      <td>1</td>\n",
              "    </tr>\n",
              "    <tr>\n",
              "      <th>1</th>\n",
              "      <td>1</td>\n",
              "      <td>0</td>\n",
              "      <td>2</td>\n",
              "      <td>0</td>\n",
              "      <td>0</td>\n",
              "    </tr>\n",
              "    <tr>\n",
              "      <th>2</th>\n",
              "      <td>0</td>\n",
              "      <td>1</td>\n",
              "      <td>2</td>\n",
              "      <td>0</td>\n",
              "      <td>0</td>\n",
              "    </tr>\n",
              "    <tr>\n",
              "      <th>3</th>\n",
              "      <td>0</td>\n",
              "      <td>1</td>\n",
              "      <td>1</td>\n",
              "      <td>0</td>\n",
              "      <td>0</td>\n",
              "    </tr>\n",
              "    <tr>\n",
              "      <th>4</th>\n",
              "      <td>0</td>\n",
              "      <td>0</td>\n",
              "      <td>1</td>\n",
              "      <td>0</td>\n",
              "      <td>0</td>\n",
              "    </tr>\n",
              "    <tr>\n",
              "      <th>...</th>\n",
              "      <td>...</td>\n",
              "      <td>...</td>\n",
              "      <td>...</td>\n",
              "      <td>...</td>\n",
              "      <td>...</td>\n",
              "    </tr>\n",
              "    <tr>\n",
              "      <th>42178</th>\n",
              "      <td>0</td>\n",
              "      <td>2</td>\n",
              "      <td>1</td>\n",
              "      <td>0</td>\n",
              "      <td>0</td>\n",
              "    </tr>\n",
              "    <tr>\n",
              "      <th>42179</th>\n",
              "      <td>0</td>\n",
              "      <td>0</td>\n",
              "      <td>1</td>\n",
              "      <td>1</td>\n",
              "      <td>1</td>\n",
              "    </tr>\n",
              "    <tr>\n",
              "      <th>42180</th>\n",
              "      <td>0</td>\n",
              "      <td>0</td>\n",
              "      <td>1</td>\n",
              "      <td>0</td>\n",
              "      <td>0</td>\n",
              "    </tr>\n",
              "    <tr>\n",
              "      <th>42181</th>\n",
              "      <td>0</td>\n",
              "      <td>0</td>\n",
              "      <td>1</td>\n",
              "      <td>0</td>\n",
              "      <td>0</td>\n",
              "    </tr>\n",
              "    <tr>\n",
              "      <th>42182</th>\n",
              "      <td>0</td>\n",
              "      <td>2</td>\n",
              "      <td>1</td>\n",
              "      <td>0</td>\n",
              "      <td>0</td>\n",
              "    </tr>\n",
              "  </tbody>\n",
              "</table>\n",
              "<p>42183 rows × 5 columns</p>\n",
              "</div>"
            ],
            "text/plain": [
              "       INT_HWY  TRAF_CON_R  WEATHER_R  INJURY_CRASH  MAX_SEV_IR\n",
              "0            0           0          1             1           1\n",
              "1            1           0          2             0           0\n",
              "2            0           1          2             0           0\n",
              "3            0           1          1             0           0\n",
              "4            0           0          1             0           0\n",
              "...        ...         ...        ...           ...         ...\n",
              "42178        0           2          1             0           0\n",
              "42179        0           0          1             1           1\n",
              "42180        0           0          1             0           0\n",
              "42181        0           0          1             0           0\n",
              "42182        0           2          1             0           0\n",
              "\n",
              "[42183 rows x 5 columns]"
            ]
          },
          "metadata": {
            "tags": []
          },
          "execution_count": 108
        }
      ]
    },
    {
      "cell_type": "code",
      "metadata": {
        "id": "simV5189GMAs",
        "colab": {
          "base_uri": "https://localhost:8080/",
          "height": 35
        },
        "outputId": "423789df-26c4-4cee-a98c-d93db5468bcd"
      },
      "source": [
        "# Split dataset into training set and test set: 80% training and 20% validation\n",
        "train_df, validation_df = train_test_split(accidents_df.cols2, test_size=0.2, random_state=111)\n",
        "print('Training set:', train_df.shape, 'Validation set:', validation_df.shape)"
      ],
      "execution_count": null,
      "outputs": [
        {
          "output_type": "stream",
          "text": [
            "Training set: (33746, 5) Validation set: (8437, 5)\n"
          ],
          "name": "stdout"
        }
      ]
    },
    {
      "cell_type": "code",
      "metadata": {
        "id": "EXQ6J748GVe2",
        "colab": {
          "base_uri": "https://localhost:8080/",
          "height": 225
        },
        "outputId": "e50b6808-0995-4b24-9f74-129110e2fc2a"
      },
      "source": [
        "# Construct the model the perform analysis\n",
        "result = 'MAX_SEV_IR'\n",
        "X = list(accidents_df.cols2.columns)\n",
        "X.remove(result)\n",
        "train_X2 = train_df[X]\n",
        "valid_X2 = validation_df[X]\n",
        "train_y2 = train_df[result]\n",
        "valid_y2 = validation_df[result]\n",
        "print(train_X2.head())\n",
        "print(valid_X2.head())"
      ],
      "execution_count": null,
      "outputs": [
        {
          "output_type": "stream",
          "text": [
            "       INT_HWY  TRAF_CON_R  WEATHER_R  INJURY_CRASH\n",
            "19080        1           0          1             0\n",
            "33161        0           1          1             0\n",
            "34772        0           0          1             0\n",
            "26501        0           0          1             0\n",
            "37729        0           0          1             0\n",
            "       INT_HWY  TRAF_CON_R  WEATHER_R  INJURY_CRASH\n",
            "12812        0           0          1             0\n",
            "1871         0           0          2             0\n",
            "15702        0           1          2             0\n",
            "31085        0           0          1             1\n",
            "27525        0           0          1             1\n"
          ],
          "name": "stdout"
        }
      ]
    },
    {
      "cell_type": "code",
      "metadata": {
        "id": "a9TDNV-1Gcb_",
        "colab": {
          "base_uri": "https://localhost:8080/",
          "height": 35
        },
        "outputId": "89c971be-c002-4e34-dc0e-e8596eeac515"
      },
      "source": [
        "# Predict the classification for test dataset\n",
        "mNB = MultinomialNB()\n",
        "mNB.fit(train_X2, train_y2)"
      ],
      "execution_count": null,
      "outputs": [
        {
          "output_type": "execute_result",
          "data": {
            "text/plain": [
              "MultinomialNB(alpha=1.0, class_prior=None, fit_prior=True)"
            ]
          },
          "metadata": {
            "tags": []
          },
          "execution_count": 111
        }
      ]
    },
    {
      "cell_type": "code",
      "metadata": {
        "id": "yk0tD4VhGjWY",
        "colab": {
          "base_uri": "https://localhost:8080/",
          "height": 139
        },
        "outputId": "4254c55e-a09c-4be9-a950-9924947a6e43"
      },
      "source": [
        "y_predict2 =mNB.predict(valid_X2)\n",
        "y_probpred2 = mNB.predict_proba(valid_X2)\n",
        "print(\"Prediction: \", y_predict2, \"Probability: \", y_probpred2)"
      ],
      "execution_count": null,
      "outputs": [
        {
          "output_type": "stream",
          "text": [
            "Prediction:  [0 0 0 ... 1 1 1] Probability:  [[6.04633078e-01 3.81376300e-01 1.39906216e-02]\n",
            " [7.05924049e-01 2.77790205e-01 1.62857464e-02]\n",
            " [7.70804859e-01 2.14582556e-01 1.46125847e-02]\n",
            " ...\n",
            " [4.77216076e-04 9.99182098e-01 3.40685817e-04]\n",
            " [2.10711049e-04 9.99605682e-01 1.83606820e-04]\n",
            " [1.49078905e-04 9.99692838e-01 1.58082861e-04]]\n"
          ],
          "name": "stdout"
        }
      ]
    },
    {
      "cell_type": "code",
      "metadata": {
        "id": "67MR5q1_O-wI",
        "colab": {
          "base_uri": "https://localhost:8080/",
          "height": 69
        },
        "outputId": "8e36d075-c8c0-4612-a8a5-47d84e35bf70"
      },
      "source": [
        "# Interpret your results:\n",
        "confusion = metrics.confusion_matrix(valid_y2, y_predict2)\n",
        "confusion\n"
      ],
      "execution_count": null,
      "outputs": [
        {
          "output_type": "execute_result",
          "data": {
            "text/plain": [
              "array([[4130,    0,    2],\n",
              "       [   0, 4223,    1],\n",
              "       [  81,    0,    0]])"
            ]
          },
          "metadata": {
            "tags": []
          },
          "execution_count": 114
        }
      ]
    },
    {
      "cell_type": "code",
      "metadata": {
        "id": "2Cy14Pf2Golz",
        "colab": {
          "base_uri": "https://localhost:8080/",
          "height": 69
        },
        "outputId": "1cb10455-ec40-498d-abbc-9b8ed79294de"
      },
      "source": [
        "# compute model accuracy of your prediction against observed outcomes.\n",
        "print(\"Accuracy\", metrics.accuracy_score(valid_y2, y_predict2))\n",
        "print(\"Recall\", metrics.recall_score(valid_y2, y_predict2, average ='weighted'))\n",
        "print(\"Precision\", metrics.precision_score(valid_y2, y_predict2, average ='weighted'))\n"
      ],
      "execution_count": null,
      "outputs": [
        {
          "output_type": "stream",
          "text": [
            "Accuracy 0.9900438544506341\n",
            "Recall 0.9900438544506341\n",
            "Precision 0.9809789725667835\n"
          ],
          "name": "stdout"
        }
      ]
    },
    {
      "cell_type": "markdown",
      "metadata": {
        "id": "nPpKzq8sZTDt"
      },
      "source": [
        "By looking at the confusion matrix, looks like model performing well by the inclusion of predictor INJURY_CRASH in the previous model. The accuracy and TP for each class have increased with few misses. I still see the model is not predicting for class 3, therefore, the model is still performing skewed and needs to incorporate minority class in it while prediction.\n",
        "\n",
        "Naive bayes works well with multi-class models.\n",
        "Simple model gives high accuracy with a little effort.\n",
        "\n",
        "# Lesson learned from this lab:\n",
        "\n"
      ]
    }
  ]
}